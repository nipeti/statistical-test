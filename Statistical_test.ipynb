{
 "cells": [
  {
   "cell_type": "markdown",
   "id": "5b75d02a-d0d9-46d7-9d79-b227d7fdb7f3",
   "metadata": {},
   "source": [
    "## How To Choose And Apply The Right Statistical Test?"
   ]
  },
  {
   "cell_type": "markdown",
   "id": "7e5689f8-ac4a-41ce-85af-a0b0809949a8",
   "metadata": {},
   "source": [
    "We often underestimate statistics and their importance and from my own experience, I can tell for certain that it’s the most important part of Data Science. One of the most useful parts of statistics in Data Science is Statistical Tests and Hypothesis Testing. We need to know which and when to use a Statistical Test so we can have the appropriate conclusions for a hypothesis.\n",
    "\n",
    "There are 3 main steps in hypothesis testing:\n",
    "\n",
    "State your null (Ho) and alternate (H1) hypothesis.\n",
    "Perform an appropriate statistical test.\n",
    "Decide whether the null hypothesis is rejected or not.\n",
    "To decide if the null hypothesis is rejected or not we need to set a threshold for the p-value called the alpha value. If we set the alpha value to be 0.05 that means that we are 95% confident about the result. For the following statistical tests, the alpha is set to 0.05.\n",
    "\n",
    "We have mainly two types of Variables in a Dataset. The Categorical Variables like Gender and the Numeric like weight and height.\n",
    "\n",
    "Let’s create a dataset with two categorical and two numeric variables."
   ]
  },
  {
   "cell_type": "code",
   "execution_count": null,
   "id": "bbad8dd8-7c6d-46d8-b759-b70a876bb7bd",
   "metadata": {},
   "outputs": [],
   "source": [
    "import pandas as pd\n",
    "import numpy as np\n",
    "import random \n",
    " \n",
    " \n",
    "df = pd.DataFrame({'Gender':random.choices([\"M\",'F'],weights=(0.4,0.6),k=1000),\n",
    "                'Age_Group':random.choices([\"18-35\",'35-45','45-80'],weights=(0.2,0.5,0.3),k=1000)})\n",
    "df['Weight']=np.where(df['Gender']==\"F\",np.random.normal(loc=55,scale=5,size=1000),np.random.normal(loc=70,scale=5,size=1000))\n",
    "df['Height']=np.where(df['Gender']==\"F\",np.random.normal(loc=160,scale=5,size=1000),np.random.normal(loc=172,scale=5,size=1000))\n",
    "df['Weight']=df['Weight'].astype(int)\n",
    "df['Height']=df['Height'].astype(int)\n",
    " \n",
    "df.head()"
   ]
  },
  {
   "cell_type": "markdown",
   "id": "98d2952a-3847-4b84-b00d-eb837b5add6b",
   "metadata": {},
   "source": [
    "### Test About One Categorical Variable"
   ]
  },
  {
   "cell_type": "markdown",
   "id": "51d500f5-3982-4de2-a5d9-a5781545db6c",
   "metadata": {},
   "source": [
    "Sample Question: Is there a difference in the number of men and women in the population?\n",
    "\n",
    "For a single categorical variable that we want to check if there is a difference between the number of its values, we will use a one proportion Z test. Let’s state the hypothesis:\n",
    "\n",
    "Ho: there is no difference between the number of men and woman\n",
    "H1: there is a difference between the number of men and woman\n",
    "We need to clarify that this is a two-sided test because we are checking if the proportion of men Pm is different than women Pw. If we wanted to check if Pm>Pw or Pm<Pw then we would have a one-tailed test."
   ]
  },
  {
   "cell_type": "code",
   "execution_count": null,
   "id": "b45450d0-497f-4e9a-bcb6-f9cc99f40ec6",
   "metadata": {},
   "outputs": [],
   "source": [
    "from statsmodels.stats.proportion import proportions_ztest\n",
    " \n",
    "count = 592 #number of females \n",
    "nobs = 1000 #number of rows | or trials \n",
    "value = 0.5 # This is the value of the null hypothesis. That means porpotion of men = porpotion of women = 0.5\n",
    " \n",
    "#we are using alternative='two-sided' because we are chcking Pm≠Pw.\n",
    "#for Pw>Pm we have to set it to \"larger\" and for Pw<Pm to \"smaller\"\n",
    " \n",
    "stat, pval = proportions_ztest(count, nobs, value, alternative='two-sided')\n",
    " \n",
    "print(\"p_value: \",round(pval,3))"
   ]
  },
  {
   "cell_type": "markdown",
   "id": "2eaf06a6-1282-4472-9012-f499a2764bdf",
   "metadata": {},
   "source": [
    "The p-value is less than 0.05 hence, we reject the null hypothesis at a 95% level of confidence. That means that there is a difference in the number of men and women in the population."
   ]
  },
  {
   "cell_type": "markdown",
   "id": "775dc073-ed1e-434a-b755-6ac69daddf43",
   "metadata": {},
   "source": [
    "### Test About Two Categorical Variables"
   ]
  },
  {
   "cell_type": "markdown",
   "id": "de3185b6-5b97-41d4-a1a1-396b8ea3ddb5",
   "metadata": {},
   "source": [
    "Sample Question: Does the proportion of males and females differ across age groups?\n",
    "\n",
    "If we want to check the independence of two categorical values, we will use the Chi-Squared test.\n",
    "\n",
    "Let’s state the hypothesis:\n",
    "\n",
    "Ho: Gender and Age Groups are Independent\n",
    "H1: Gender and Age Groups are Dependent"
   ]
  },
  {
   "cell_type": "code",
   "execution_count": null,
   "id": "80356add-8078-434e-bd56-bdce8f58d3fa",
   "metadata": {},
   "outputs": [],
   "source": [
    "from scipy.stats import chi2_contingency\n",
    " \n",
    "#The easiest way to apply a chi-squared test is to compute the contigency table.\n",
    " \n",
    "contigency= pd.crosstab(df['Gender'], df['Age_Group'])\n",
    "contigency"
   ]
  },
  {
   "cell_type": "code",
   "execution_count": null,
   "id": "886d4b0a-98a3-47e4-ae4c-04705a09a522",
   "metadata": {},
   "outputs": [],
   "source": [
    "#Chi-square test of independence.\n",
    "c, p, dof, expected = chi2_contingency(contigency)\n",
    " \n",
    "print(\"p_value: \",round(p,3))"
   ]
  },
  {
   "cell_type": "markdown",
   "id": "edf4002c-7333-4622-a041-f30681ed63ba",
   "metadata": {},
   "source": [
    "The p-value is not less than 0.05 hence, we failed to reject the null hypothesis at a 95% level of confidence. That means that Gender and Age Groups are Independent."
   ]
  },
  {
   "cell_type": "markdown",
   "id": "49b0cbc4-ee48-4ab7-b2e6-8732791add52",
   "metadata": {},
   "source": [
    "### Test About one Categorical and one Numeric Variable"
   ]
  },
  {
   "cell_type": "markdown",
   "id": "66102e8d-bbdf-4a1e-8b23-6bf32260675c",
   "metadata": {},
   "source": [
    "Now, we will use the ANOVA (Analysis Of Variance) test.\n",
    "\n",
    "Ho: Groups means of height are equal\n",
    "H1: At least, one group mean of height is different from other groups"
   ]
  },
  {
   "cell_type": "code",
   "execution_count": null,
   "id": "e33069fd-0c8d-49c3-93c3-f4fdcc4a4904",
   "metadata": {},
   "outputs": [],
   "source": [
    "import scipy.stats as stats\n",
    " \n",
    "# stats f_oneway functions takes the groups as input and returns ANOVA F and p value\n",
    "fvalue, pvalue = stats.f_oneway(df.query('Age_Group==\"18-35\"')['Height'],\n",
    "                                df.query('Age_Group==\"35-45\"')['Height'],\n",
    "                                df.query('Age_Group==\"45-80\"')['Height'])\n",
    " \n",
    "print(\"p_value: \",round(pvalue,3))"
   ]
  },
  {
   "cell_type": "markdown",
   "id": "9077ad8b-079d-4e25-8c48-9481530816d6",
   "metadata": {},
   "source": [
    "The p-value is not less than 0.05 hence, we failed to reject the null hypothesis at a 95% level of confidence"
   ]
  },
  {
   "cell_type": "markdown",
   "id": "0dabc767-608e-499b-8873-47ecc398ed35",
   "metadata": {},
   "source": [
    "### Test About Two Numeric Variables"
   ]
  },
  {
   "cell_type": "markdown",
   "id": "a961eb3f-c68a-4a8a-83f1-2bdd41d1f74d",
   "metadata": {},
   "source": [
    "Sample Question: Is there a relationship between height and weight?\n",
    "\n",
    "Ho: There is no relationship between height and weight\n",
    "H1: There is a relationship between height and weight\n",
    "We will use a correlation test. A correlation test will give us two things, a correlation coefficient, and a p-value. As you may already know the correlation coefficient is the number that shows us how correlated are the two variables. \n",
    "For its p-value, we are applying the same principles as before, if the p-value is less than 0.05 we reject the null hypothesis."
   ]
  },
  {
   "cell_type": "code",
   "execution_count": null,
   "id": "714a96e4-4780-4720-80a8-3d3b1aea301f",
   "metadata": {},
   "outputs": [],
   "source": [
    "import scipy.stats as stats\n",
    " \n",
    "#for this example we will use the Pearson Correlation.\n",
    "pearson_coef, p_value = stats.pearsonr(df[\"Weight\"], df[\"Height\"])\n",
    " \n",
    "print(\"Pearson Correlation Coefficient: \", pearson_coef, \"and a P-value of:\", round(p_value,3) )"
   ]
  },
  {
   "cell_type": "markdown",
   "id": "fbffc1e5-3c34-45d8-ab06-1f1dc26e3a03",
   "metadata": {},
   "source": [
    "As we can see the p-value is less than 0.05 hence, we reject the null hypothesis at a 95% level of confidence. That means that there is a relationship between height and weight."
   ]
  },
  {
   "cell_type": "markdown",
   "id": "70333b4e-efac-4bcf-bd11-d081427033d1",
   "metadata": {},
   "source": [
    "### Summing It Up\n",
    "This was an introduction to Statistical Tests and Hypothesis Testing. We got a basic understanding of when you should apply Z-test, T-test, Chi-Squared test, ANOVA, and Correlation Test based on the variable types and some common questions. You can use this post as a statistical test cheat sheet but I encourage you to read more about them because as I said before, Statistics is the most important part of Data Science."
   ]
  }
 ],
 "metadata": {
  "kernelspec": {
   "display_name": "Python 3",
   "language": "python",
   "name": "python3"
  },
  "language_info": {
   "codemirror_mode": {
    "name": "ipython",
    "version": 3
   },
   "file_extension": ".py",
   "mimetype": "text/x-python",
   "name": "python",
   "nbconvert_exporter": "python",
   "pygments_lexer": "ipython3",
   "version": "3.8.10"
  }
 },
 "nbformat": 4,
 "nbformat_minor": 5
}
